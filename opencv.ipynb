{
  "cells": [
    {
      "cell_type": "markdown",
      "metadata": {
        "id": "view-in-github",
        "colab_type": "text"
      },
      "source": [
        "<a href=\"https://colab.research.google.com/github/freealise/freealise/blob/main/opencv.ipynb\" target=\"_parent\"><img src=\"https://colab.research.google.com/assets/colab-badge.svg\" alt=\"Open In Colab\"/></a>"
      ]
    },
    {
      "cell_type": "code",
      "execution_count": null,
      "metadata": {
        "colab": {
          "base_uri": "https://localhost:8080/"
        },
        "id": "qcxH56uqg_tH",
        "outputId": "ba883cb6-a2f8-48c1-b294-76d773e7d3b5"
      },
      "outputs": [
        {
          "output_type": "stream",
          "name": "stdout",
          "text": [
            "Requirement already satisfied: ffmpy in /usr/local/lib/python3.11/dist-packages (0.5.0)\n"
          ]
        },
        {
          "output_type": "execute_result",
          "data": {
            "text/plain": [
              "(None, None)"
            ]
          },
          "metadata": {},
          "execution_count": 19
        }
      ],
      "source": [
        "!pip install ffmpy\n",
        "import IPython.display as display\n",
        "from ffmpy import FFmpeg\n",
        "import numpy as np\n",
        "import cv2 as cv\n",
        "\n",
        "img1 = cv.imread(\"cube_origs.jpg\", cv.IMREAD_UNCHANGED)\n",
        "img2 = cv.imread(\"cube_origs.jpg\", cv.IMREAD_UNCHANGED)\n",
        "img = np.concatenate((img1, img2), axis=1)\n",
        "cv.imwrite(\"cube.jpg\", img)\n",
        "\n",
        "ff = FFmpeg(\n",
        "    inputs={'cube.jpg': None },\n",
        "    outputs={'output.jpg': '-vf v360=dfisheye:equirect:ih_fov=180:iv_fov=180:yaw=90' }\n",
        ")\n",
        "ff.run()\n",
        "\n",
        "#video=\"output.jpg\"\n",
        "#display.display(display.Markdown(F\"\"\"![]({video})\"\"\"))"
      ]
    },
    {
      "cell_type": "code",
      "execution_count": null,
      "metadata": {
        "id": "VOZhOUg-p4n5",
        "colab": {
          "base_uri": "https://localhost:8080/"
        },
        "outputId": "af5df26e-3a29-478a-ce26-7b867fd89ab0"
      },
      "outputs": [
        {
          "output_type": "stream",
          "name": "stdout",
          "text": [
            "Mounted at /content/drive\n"
          ]
        }
      ],
      "source": [
        "\n",
        "from google.colab import drive\n",
        "drive.mount('/content/drive')"
      ]
    }
  ],
  "metadata": {
    "colab": {
      "provenance": [],
      "authorship_tag": "ABX9TyNyiSBxAUVh5o4uWm3GtF0L",
      "include_colab_link": true
    },
    "kernelspec": {
      "display_name": "Python 3",
      "name": "python3"
    },
    "language_info": {
      "name": "python"
    }
  },
  "nbformat": 4,
  "nbformat_minor": 0
}