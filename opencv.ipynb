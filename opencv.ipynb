{
  "cells": [
    {
      "cell_type": "markdown",
      "metadata": {
        "id": "view-in-github",
        "colab_type": "text"
      },
      "source": [
        "<a href=\"https://colab.research.google.com/github/freealise/freealise/blob/main/opencv.ipynb\" target=\"_parent\"><img src=\"https://colab.research.google.com/assets/colab-badge.svg\" alt=\"Open In Colab\"/></a>"
      ]
    },
    {
      "cell_type": "code",
      "execution_count": null,
      "metadata": {
        "colab": {
          "base_uri": "https://localhost:8080/",
          "height": 84,
          "resources": {
            "http://localhost:8080/output.gif": {
              "data": "",
              "headers": [
                [
                  "content-length",
                  "0"
                ]
              ],
              "ok": false,
              "status": 404,
              "status_text": "Not Found"
            }
          }
        },
        "id": "qcxH56uqg_tH",
        "outputId": "c0d2966d-2ed7-4bb7-beb3-4fa3df6554c2"
      },
      "outputs": [
        {
          "name": "stdout",
          "output_type": "stream",
          "text": [
            "Requirement already satisfied: ffmpy in /usr/local/lib/python3.10/dist-packages (0.4.0)\n"
          ]
        },
        {
          "data": {
            "text/markdown": "![](output.gif)",
            "text/plain": [
              "<IPython.core.display.Markdown object>"
            ]
          },
          "metadata": {},
          "output_type": "display_data"
        }
      ],
      "source": [
        "!pip install ffmpy\n",
        "import IPython.display as display\n",
        "from ffmpy import FFmpeg\n",
        "ff = FFmpeg(\n",
        "    inputs={'movie.mp4': None },\n",
        "    outputs={'output.png': '-f apng -vf \"chromakey=0xffffff:0.01:0.2\"' }\n",
        ")\n",
        "ff.run()\n",
        "ff = FFmpeg(\n",
        "    inputs={'output.png': None},\n",
        "    outputs={'output.gif': None}\n",
        ")\n",
        "ff.run()\n",
        "video=\"output.gif\"\n",
        "display.display(display.Markdown(F\"\"\"![]({video})\"\"\"))"
      ]
    },
    {
      "cell_type": "code",
      "execution_count": null,
      "metadata": {
        "id": "VOZhOUg-p4n5",
        "colab": {
          "base_uri": "https://localhost:8080/"
        },
        "outputId": "af5df26e-3a29-478a-ce26-7b867fd89ab0"
      },
      "outputs": [
        {
          "output_type": "stream",
          "name": "stdout",
          "text": [
            "Mounted at /content/drive\n"
          ]
        }
      ],
      "source": [
        "from google.colab import drive\n",
        "drive.mount('/content/drive')"
      ]
    },
    {
      "cell_type": "code",
      "source": [
        "import numpy as np\n",
        "import cv2 as cv\n",
        "import json as json\n",
        "from matplotlib import pyplot as plt\n",
        "from IPython.core.display import display, HTML\n",
        "\n",
        "im = cv.imread('morphology.png')\n",
        "assert im is not None, \"file could not be read, check with os.path.exists()\"\n",
        "imgray = cv.cvtColor(im, cv.COLOR_BGR2GRAY)\n",
        "ret, thresh = cv.threshold(imgray, 127, 255, 0)\n",
        "contours, hierarchy = cv.findContours(thresh, cv.RETR_TREE, cv.CHAIN_APPROX_SIMPLE)\n",
        "print(contours[0].shape[0])\n",
        "\n",
        "arr = [['x', 'y']]\n",
        "j=0\n",
        "while j<len(contours):\n",
        "  print(j)\n",
        "  i=0\n",
        "  xold=-2\n",
        "  yold=-2\n",
        "\n",
        "  while i<contours[j].shape[0]:\n",
        "    x = contours[j][i].flatten()[0]\n",
        "    y = contours[j][i].flatten()[1]\n",
        "    if abs(x-xold)>=1 and abs(y-yold)>=1:\n",
        "      im[y,x,1] = 0\n",
        "      arr.append([int(x), int(y)])\n",
        "    xold=x\n",
        "    yold=y\n",
        "    i=i+1\n",
        "  j=j+1\n",
        "#cv.drawContours(im, contours, -1, (255,0,255))\n",
        "plt.imshow(im, 'gray')\n",
        "plt.show()\n",
        "txt = json.dumps(arr)\n",
        "print(txt)\n",
        "\n",
        "'''html = \"\"\"\n",
        "<script type=\"text/javascript\" src=\"https://www.gstatic.com/charts/loader.js\"></script>\n",
        "    <script type=\"text/javascript\">\n",
        "try {\n",
        "      var xmlns = \"http://www.w3.org/2000/svg\";\n",
        "      var arr = \"\"\" + txt + \"\"\";\n",
        "      /*[\n",
        "          ['x', 'y'],\n",
        "          [2,  1000],\n",
        "          [4,  1170],\n",
        "          [3,  660],\n",
        "          [1,  1030],\n",
        "          [2.5,  800],\n",
        "          [3.5,  950],\n",
        "      ];*/\n",
        "      //triangulate raw polyline points, chart edge (ispointinstroke)\n",
        "      //points not on edge for fill colors (triangle color is density)\n",
        "\n",
        "      var mp = [];\n",
        "      for (var i=0; i<arr[0].length; i++) {\n",
        "        mp[i] = (arr[1][i]+arr[arr.length-1][i])/2;\n",
        "      }\n",
        "      arr.splice(1, 0, mp);\n",
        "      arr.splice(arr.length, 0, mp);\n",
        "\n",
        "      google.charts.load('current', {'packages':['corechart']});\n",
        "      google.charts.setOnLoadCallback(drawChart);\n",
        "\n",
        "      function drawChart() {\n",
        "        var data = google.visualization.arrayToDataTable(arr);\n",
        "\n",
        "        var options = {\n",
        "          title: 'Tracer',\n",
        "          curveType: 'function',\n",
        "          legend: { position: 'bottom' },\n",
        "          hAxis: {\n",
        "            viewWindow: {\n",
        "              min: 0,\n",
        "              max: 5\n",
        "            }\n",
        "          }\n",
        "        };\n",
        "\n",
        "        var chart = new google.visualization.LineChart(document.getElementById('curve_chart'));\n",
        "\n",
        "        chart.draw(data, options);\n",
        "\n",
        "        document.getElementsByTagName('svg')[1].setAttribute('height', \"\"+parseInt(document.getElementById('curve_chart').style.height));\n",
        "        document.getElementsByTagName('svg')[1].setAttribute('width',  \"\"+parseInt(document.getElementById('curve_chart').style.width));\n",
        "\n",
        "        var paths = document.getElementsByTagName('svg')[0].getElementsByTagName('path').length;\n",
        "\n",
        "        for (var i=0; i<paths; i++) {\n",
        "          var g = document.createElementNS(xmlns, \"g\");\n",
        "          g.setAttributeNS(null, 'fill', 'gray');\n",
        "          document.getElementsByTagName('svg')[1].appendChild(g);\n",
        "\n",
        "          var p = document.getElementsByTagName('svg')[0].getElementsByTagName('path')[paths-i-1];\n",
        "          var s = p.getAttribute('stroke');\n",
        "          p.setAttribute('fill', s);\n",
        "          document.getElementsByTagName('svg')[1].appendChild(p);\n",
        "\n",
        "          var step = 5;\n",
        "          var polyline = \"\";\n",
        "          for (var j=0; j<p.getTotalLength()+step; j+=step) {\n",
        "            var d = p.getPointAtLength(j);\n",
        "            polyline += Math.round(d.x) + \",\" + Math.round(d.y) + \" \";\n",
        "          }\n",
        "          polyline = polyline.slice(0, -1);\n",
        "\n",
        "          var line = document.createElementNS(xmlns, \"polyline\");\n",
        "          line.setAttributeNS(null, 'points', polyline);\n",
        "          line.setAttributeNS(null, 'stroke', 'black');\n",
        "          line.setAttributeNS(null, 'stroke-width', '3');\n",
        "          line.setAttributeNS(null, 'fill', 'none');\n",
        "          document.getElementsByTagName('svg')[1].appendChild(line);\n",
        "\n",
        "          polyline = \"0,0,500,0,0,250,500,250,\" + polyline.replace(/\\s/g, \",\");\n",
        "          var points = polyline.split(\",\");\n",
        "          for (var j=0; j<points.length; j++) {\n",
        "            points[j] = parseInt(points[j]);\n",
        "          }\n",
        "\n",
        "          //const triangles = earcut.default(points);\n",
        "          //const delaunay = new Delaunator(points);\n",
        "          //const triangles = delaunay.triangles;\n",
        "          //console.log(triangles);\n",
        "\n",
        "          /*for (var j=0; j<triangles.length; j+=3) {\n",
        "            var pt0 = [points[triangles[j]*2], points[triangles[j]*2+1]];\n",
        "            var pt1 = [points[triangles[j+1]*2], points[triangles[j+1]*2+1]];\n",
        "            var pt2 = [points[triangles[j+2]*2], points[triangles[j+2]*2+1]];\n",
        "            var mid = [(pt0[0]+pt1[0]+pt2[0])/3, (pt0[1]+pt1[1]+pt2[1])/3];\n",
        "            var mid01 = [(pt0[0]+pt1[0])/2, (pt0[1]+pt1[1])/2];\n",
        "            var mid12 = [(pt1[0]+pt2[0])/2, (pt1[1]+pt2[1])/2];\n",
        "            var mid20 = [(pt2[0]+pt0[0])/2, (pt2[1]+pt0[1])/2];\n",
        "            const mpt = document.getElementsByTagName('svg')[1].createSVGPoint();\n",
        "            mpt.x = mid[0];\n",
        "            mpt.y = mid[1];\n",
        "\n",
        "            const m01 = document.getElementsByTagName('svg')[1].createSVGPoint();\n",
        "            m01.x = mid01[0];\n",
        "            m01.y = mid01[1];\n",
        "            const m12 = document.getElementsByTagName('svg')[1].createSVGPoint();\n",
        "            m12.x = mid12[0];\n",
        "            m12.y = mid12[1];\n",
        "            const m20 = document.getElementsByTagName('svg')[1].createSVGPoint();\n",
        "            m20.x = mid20[0];\n",
        "            m20.y = mid20[1];\n",
        "\n",
        "            if (line.isPointInFill(mpt)) {\n",
        "              var tr = document.createElementNS(xmlns, \"polyline\");\n",
        "              tr.setAttributeNS(null, 'points', pt0.join(\",\") + \" \" + pt1.join(\",\") + \" \" + pt2.join(\",\"));\n",
        "              tr.setAttributeNS(null, 'stroke', 'none');\n",
        "              tr.setAttributeNS(null, 'fill', 'none');\n",
        "              document.getElementsByTagName('svg')[1].appendChild(tr);\n",
        "\n",
        "            } else if (line.isPointInStroke(m01) || line.isPointInFill(m01)) {\n",
        "              var ln = document.createElementNS(xmlns, \"polyline\");\n",
        "              ln.setAttributeNS(null, 'points', pt0.join(\",\") + \" \" + pt1.join(\",\"));\n",
        "              ln.setAttributeNS(null, 'stroke', 'lightgray');\n",
        "              ln.setAttributeNS(null, 'fill', 'none');\n",
        "              document.getElementsByTagName('svg')[1].appendChild(ln);\n",
        "\n",
        "            } else if (line.isPointInStroke(m12) || line.isPointInFill(m12)) {\n",
        "              var ln = document.createElementNS(xmlns, \"polyline\");\n",
        "              ln.setAttributeNS(null, 'points', pt1.join(\",\") + \" \" + pt2.join(\",\"));\n",
        "              ln.setAttributeNS(null, 'stroke', 'lightgray');\n",
        "              ln.setAttributeNS(null, 'fill', 'none');\n",
        "              document.getElementsByTagName('svg')[1].appendChild(ln);\n",
        "\n",
        "            } else if (line.isPointInStroke(m20) || line.isPointInFill(m20)) {\n",
        "              var ln = document.createElementNS(xmlns, \"polyline\");\n",
        "              ln.setAttributeNS(null, 'points', pt2.join(\",\") + \" \" + pt0.join(\",\"));\n",
        "              ln.setAttributeNS(null, 'stroke', 'lightgray');\n",
        "              ln.setAttributeNS(null, 'fill', 'none');\n",
        "              document.getElementsByTagName('svg')[1].appendChild(ln);\n",
        "\n",
        "            } else {\n",
        "              var tr = document.createElementNS(xmlns, \"polyline\");\n",
        "              tr.setAttributeNS(null, 'points', pt0.join(\",\") + \" \" + pt1.join(\",\") + \" \" + pt2.join(\",\"));\n",
        "              tr.setAttributeNS(null, 'stroke', 'gray');\n",
        "              tr.setAttributeNS(null, 'fill', 'none');\n",
        "              document.getElementsByTagName('svg')[1].appendChild(tr);\n",
        "            }\n",
        "\n",
        "          }*/\n",
        "        }\n",
        "      }\n",
        "} catch(e) {console.log(e);}\n",
        "    </script>\n",
        "    <div id=\"curve_chart\" style=\"width: 512px; height: 256px\"></div>\n",
        "    <svg xmlns=\"http://www.w3.org/2000/svg\"></svg>\n",
        "\"\"\"\n",
        "display(HTML(html))'''"
      ],
      "metadata": {
        "colab": {
          "base_uri": "https://localhost:8080/",
          "height": 746
        },
        "id": "D0_29VdQqUq0",
        "outputId": "bf35b1ed-6806-461b-9723-a3903b5c1aa8"
      },
      "execution_count": 37,
      "outputs": [
        {
          "output_type": "stream",
          "name": "stdout",
          "text": [
            "224\n",
            "0\n",
            "1\n",
            "2\n",
            "3\n"
          ]
        },
        {
          "output_type": "display_data",
          "data": {
            "text/plain": [
              "<Figure size 640x480 with 1 Axes>"
            ],
            "image/png": "[encoded data removed]"
          },
          "metadata": {}
        },
        {
          "output_type": "stream",
          "name": "stdout",
          "text": [
            "[[\"x\", \"y\"], [67, 31], [66, 32], [65, 34], [61, 39], [59, 42], [57, 45], [56, 47], [46, 58], [43, 60], [41, 61], [39, 62], [35, 64], [32, 65], [30, 66], [26, 67], [17, 69], [18, 74], [30, 73], [32, 72], [36, 71], [38, 70], [40, 69], [44, 67], [46, 66], [49, 64], [61, 53], [62, 54], [61, 61], [60, 66], [59, 71], [58, 75], [57, 78], [56, 81], [55, 84], [54, 86], [53, 88], [52, 91], [51, 93], [50, 95], [48, 99], [47, 101], [46, 103], [43, 104], [38, 105], [35, 106], [32, 107], [30, 108], [27, 109], [25, 110], [23, 111], [18, 115], [13, 119], [12, 121], [11, 123], [10, 128], [13, 134], [17, 139], [19, 140], [29, 139], [32, 138], [42, 129], [45, 124], [47, 121], [48, 118], [50, 115], [51, 112], [53, 109], [59, 108], [65, 107], [70, 106], [74, 105], [76, 104], [78, 103], [81, 102], [85, 100], [87, 99], [92, 95], [94, 94], [98, 91], [104, 86], [103, 81], [95, 85], [91, 88], [89, 89], [84, 93], [82, 94], [80, 95], [78, 96], [76, 97], [73, 98], [71, 99], [68, 100], [63, 101], [57, 102], [56, 101], [57, 99], [58, 96], [59, 94], [60, 92], [61, 89], [62, 87], [63, 84], [64, 82], [65, 78], [66, 76], [67, 71], [68, 66], [69, 60], [70, 55], [69, 54], [70, 53], [71, 50], [72, 45], [73, 38], [71, 31], [40, 112], [41, 111], [43, 112], [42, 113], [41, 115], [39, 119], [36, 123], [34, 126], [29, 132], [27, 133], [19, 131], [17, 128], [18, 127], [21, 121], [25, 118], [28, 116], [30, 115], [33, 114], [35, 113], [38, 112], [61, 52], [62, 51], [63, 52], [62, 54], [61, 53], [75, 8], [74, 9], [69, 10], [66, 14], [67, 21], [68, 24], [73, 26], [81, 21], [82, 17], [80, 12], [78, 8]]\n"
          ]
        },
        {
          "output_type": "execute_result",
          "data": {
            "text/plain": [
              "'html = \"\"\"\\n<script type=\"text/javascript\" src=\"https://www.gstatic.com/charts/loader.js\"></script>\\n    <script type=\"text/javascript\">\\ntry {\\n      var xmlns = \"http://www.w3.org/2000/svg\";\\n      var arr = \"\"\" + txt + \"\"\";\\n      /*[\\n          [\\'x\\', \\'y\\'],\\n          [2,  1000],\\n          [4,  1170],\\n          [3,  660],\\n          [1,  1030],\\n          [2.5,  800],\\n          [3.5,  950],\\n      ];*/\\n      //triangulate raw polyline points, chart edge (ispointinstroke)\\n      //points not on edge for fill colors (triangle color is density)\\n\\n      var mp = [];\\n      for (var i=0; i<arr[0].length; i++) {\\n        mp[i] = (arr[1][i]+arr[arr.length-1][i])/2;\\n      }\\n      arr.splice(1, 0, mp);\\n      arr.splice(arr.length, 0, mp);\\n\\n      google.charts.load(\\'current\\', {\\'packages\\':[\\'corechart\\']});\\n      google.charts.setOnLoadCallback(drawChart);\\n\\n      function drawChart() {\\n        var data = google.visualization.arrayToDataTable(arr);\\n\\n        var options = {\\n          title: \\'Tracer\\',\\n          curveType: \\'function\\',\\n          legend: { position: \\'bottom\\' },\\n          hAxis: {\\n            viewWindow: {\\n              min: 0,\\n              max: 5\\n            }\\n          }\\n        };\\n\\n        var chart = new google.visualization.LineChart(document.getElementById(\\'curve_chart\\'));\\n\\n        chart.draw(data, options);\\n\\n        document.getElementsByTagName(\\'svg\\')[1].setAttribute(\\'height\\', \"\"+parseInt(document.getElementById(\\'curve_chart\\').style.height));\\n        document.getElementsByTagName(\\'svg\\')[1].setAttribute(\\'width\\',  \"\"+parseInt(document.getElementById(\\'curve_chart\\').style.width));\\n\\n        var paths = document.getElementsByTagName(\\'svg\\')[0].getElementsByTagName(\\'path\\').length;\\n\\n        for (var i=0; i<paths; i++) {\\n          var g = document.createElementNS(xmlns, \"g\");\\n          g.setAttributeNS(null, \\'fill\\', \\'gray\\');\\n          document.getElementsByTagName(\\'svg\\')[1].appendChild(g);\\n\\n          var p = document.getElementsByTagName(\\'svg\\')[0].getElementsByTagName(\\'path\\')[paths-i-1];\\n          var s = p.getAttribute(\\'stroke\\');\\n          p.setAttribute(\\'fill\\', s);\\n          document.getElementsByTagName(\\'svg\\')[1].appendChild(p);\\n\\n          var step = 5;\\n          var polyline = \"\";\\n          for (var j=0; j<p.getTotalLength()+step; j+=step) {\\n            var d = p.getPointAtLength(j);\\n            polyline += Math.round(d.x) + \",\" + Math.round(d.y) + \" \";\\n          }\\n          polyline = polyline.slice(0, -1);\\n\\n          var line = document.createElementNS(xmlns, \"polyline\");\\n          line.setAttributeNS(null, \\'points\\', polyline);\\n          line.setAttributeNS(null, \\'stroke\\', \\'black\\');\\n          line.setAttributeNS(null, \\'stroke-width\\', \\'3\\');\\n          line.setAttributeNS(null, \\'fill\\', \\'none\\');\\n          document.getElementsByTagName(\\'svg\\')[1].appendChild(line);\\n\\n          polyline = \"0,0,500,0,0,250,500,250,\" + polyline.replace(/\\\\s/g, \",\");\\n          var points = polyline.split(\",\");\\n          for (var j=0; j<points.length; j++) {\\n            points[j] = parseInt(points[j]);\\n          }\\n\\n          //const triangles = earcut.default(points);\\n          //const delaunay = new Delaunator(points);\\n          //const triangles = delaunay.triangles;\\n          //console.log(triangles);\\n\\n          /*for (var j=0; j<triangles.length; j+=3) {\\n            var pt0 = [points[triangles[j]*2], points[triangles[j]*2+1]];\\n            var pt1 = [points[triangles[j+1]*2], points[triangles[j+1]*2+1]];\\n            var pt2 = [points[triangles[j+2]*2], points[triangles[j+2]*2+1]];\\n            var mid = [(pt0[0]+pt1[0]+pt2[0])/3, (pt0[1]+pt1[1]+pt2[1])/3];\\n            var mid01 = [(pt0[0]+pt1[0])/2, (pt0[1]+pt1[1])/2];\\n            var mid12 = [(pt1[0]+pt2[0])/2, (pt1[1]+pt2[1])/2];\\n            var mid20 = [(pt2[0]+pt0[0])/2, (pt2[1]+pt0[1])/2];\\n            const mpt = document.getElementsByTagName(\\'svg\\')[1].createSVGPoint();\\n            mpt.x = mid[0];\\n            mpt.y = mid[1];\\n\\n            const m01 = document.getElementsByTagName(\\'svg\\')[1].createSVGPoint();\\n            m01.x = mid01[0];\\n            m01.y = mid01[1];\\n            const m12 = document.getElementsByTagName(\\'svg\\')[1].createSVGPoint();\\n            m12.x = mid12[0];\\n            m12.y = mid12[1];\\n            const m20 = document.getElementsByTagName(\\'svg\\')[1].createSVGPoint();\\n            m20.x = mid20[0];\\n            m20.y = mid20[1];\\n\\n            if (line.isPointInFill(mpt)) {\\n              var tr = document.createElementNS(xmlns, \"polyline\");\\n              tr.setAttributeNS(null, \\'points\\', pt0.join(\",\") + \" \" + pt1.join(\",\") + \" \" + pt2.join(\",\"));\\n              tr.setAttributeNS(null, \\'stroke\\', \\'none\\');\\n              tr.setAttributeNS(null, \\'fill\\', \\'none\\');\\n              document.getElementsByTagName(\\'svg\\')[1].appendChild(tr);\\n\\n            } else if (line.isPointInStroke(m01) || line.isPointInFill(m01)) {\\n              var ln = document.createElementNS(xmlns, \"polyline\");\\n              ln.setAttributeNS(null, \\'points\\', pt0.join(\",\") + \" \" + pt1.join(\",\"));\\n              ln.setAttributeNS(null, \\'stroke\\', \\'lightgray\\');\\n              ln.setAttributeNS(null, \\'fill\\', \\'none\\');\\n              document.getElementsByTagName(\\'svg\\')[1].appendChild(ln);\\n\\n            } else if (line.isPointInStroke(m12) || line.isPointInFill(m12)) {\\n              var ln = document.createElementNS(xmlns, \"polyline\");\\n              ln.setAttributeNS(null, \\'points\\', pt1.join(\",\") + \" \" + pt2.join(\",\"));\\n              ln.setAttributeNS(null, \\'stroke\\', \\'lightgray\\');\\n              ln.setAttributeNS(null, \\'fill\\', \\'none\\');\\n              document.getElementsByTagName(\\'svg\\')[1].appendChild(ln);\\n\\n            } else if (line.isPointInStroke(m20) || line.isPointInFill(m20)) {\\n              var ln = document.createElementNS(xmlns, \"polyline\");\\n              ln.setAttributeNS(null, \\'points\\', pt2.join(\",\") + \" \" + pt0.join(\",\"));\\n              ln.setAttributeNS(null, \\'stroke\\', \\'lightgray\\');\\n              ln.setAttributeNS(null, \\'fill\\', \\'none\\');\\n              document.getElementsByTagName(\\'svg\\')[1].appendChild(ln);\\n\\n            } else {\\n              var tr = document.createElementNS(xmlns, \"polyline\");\\n              tr.setAttributeNS(null, \\'points\\', pt0.join(\",\") + \" \" + pt1.join(\",\") + \" \" + pt2.join(\",\"));\\n              tr.setAttributeNS(null, \\'stroke\\', \\'gray\\');\\n              tr.setAttributeNS(null, \\'fill\\', \\'none\\');\\n              document.getElementsByTagName(\\'svg\\')[1].appendChild(tr);\\n            }\\n\\n          }*/\\n        }\\n      }\\n} catch(e) {console.log(e);}\\n    </script>\\n    <div id=\"curve_chart\" style=\"width: 512px; height: 256px\"></div>\\n    <svg xmlns=\"http://www.w3.org/2000/svg\"></svg>\\n\"\"\"\\ndisplay(HTML(html))'"
            ],
            "application/vnd.google.colaboratory.intrinsic+json": {
              "type": "string"
            }
          },
          "metadata": {},
          "execution_count": 37
        }
      ]
    }
  ],
  "metadata": {
    "colab": {
      "provenance": [],
      "authorship_tag": "ABX9TyOcrYN5UQtbUrXu3VP9nqDh",
      "include_colab_link": true
    },
    "kernelspec": {
      "display_name": "Python 3",
      "name": "python3"
    },
    "language_info": {
      "name": "python"
    }
  },
  "nbformat": 4,
  "nbformat_minor": 0
}